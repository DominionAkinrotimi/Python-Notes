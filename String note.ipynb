{
 "cells": [
  {
   "cell_type": "code",
   "execution_count": 24,
   "id": "ca09af39",
   "metadata": {},
   "outputs": [
    {
     "name": "stdout",
     "output_type": "stream",
     "text": [
      "19\n"
     ]
    }
   ],
   "source": [
    "Name = \"Akinrotimi Dominion\"\n",
    "print(len(Name))"
   ]
  },
  {
   "cell_type": "code",
   "execution_count": 25,
   "id": "30b2e213",
   "metadata": {
    "scrolled": true
   },
   "outputs": [
    {
     "name": "stdout",
     "output_type": "stream",
     "text": [
      "Akin\n",
      "inion\n",
      "Akinrotimi Dom\n",
      "on\n"
     ]
    }
   ],
   "source": [
    "print(Name[0:4])\n",
    "print(Name[-5:])\n",
    "print(Name[:-5])\n",
    "print(Name[-2:])"
   ]
  },
  {
   "cell_type": "code",
   "execution_count": 26,
   "id": "362a1424",
   "metadata": {},
   "outputs": [
    {
     "name": "stdout",
     "output_type": "stream",
     "text": [
      "7\n"
     ]
    }
   ],
   "source": [
    "NamE = \"12345678\" \n",
    "print(NamE[-2])"
   ]
  },
  {
   "cell_type": "code",
   "execution_count": 27,
   "id": "4e38eae2",
   "metadata": {},
   "outputs": [
    {
     "data": {
      "text/plain": [
       "0"
      ]
     },
     "execution_count": 27,
     "metadata": {},
     "output_type": "execute_result"
    }
   ],
   "source": [
    "\"Dominion\" .count(\"s\")"
   ]
  },
  {
   "cell_type": "code",
   "execution_count": 28,
   "id": "e9b1c0fa",
   "metadata": {},
   "outputs": [
    {
     "data": {
      "text/plain": [
       "2"
      ]
     },
     "execution_count": 28,
     "metadata": {},
     "output_type": "execute_result"
    }
   ],
   "source": [
    "\"Dominion\" .count(\"n\")"
   ]
  },
  {
   "cell_type": "code",
   "execution_count": 29,
   "id": "63f23eee",
   "metadata": {},
   "outputs": [
    {
     "data": {
      "text/plain": [
       "7"
      ]
     },
     "execution_count": 29,
     "metadata": {},
     "output_type": "execute_result"
    }
   ],
   "source": [
    "na = \"oluwabunkolamitioletanraranitoripeoluwaferanmi\"\n",
    "na .count(\"a\")"
   ]
  },
  {
   "cell_type": "code",
   "execution_count": 30,
   "id": "e76cc1ff",
   "metadata": {},
   "outputs": [
    {
     "data": {
      "text/plain": [
       "5"
      ]
     },
     "execution_count": 30,
     "metadata": {},
     "output_type": "execute_result"
    }
   ],
   "source": [
    "na .count(\"o\")"
   ]
  },
  {
   "cell_type": "code",
   "execution_count": 31,
   "id": "334ca3b9",
   "metadata": {},
   "outputs": [
    {
     "data": {
      "text/plain": [
       "3"
      ]
     },
     "execution_count": 31,
     "metadata": {},
     "output_type": "execute_result"
    }
   ],
   "source": [
    "na.count(\"e\")"
   ]
  },
  {
   "cell_type": "code",
   "execution_count": 32,
   "id": "d0ea12a8",
   "metadata": {},
   "outputs": [
    {
     "data": {
      "text/plain": [
       "46"
      ]
     },
     "execution_count": 32,
     "metadata": {},
     "output_type": "execute_result"
    }
   ],
   "source": [
    "len(na)"
   ]
  },
  {
   "cell_type": "code",
   "execution_count": 33,
   "id": "921e6758",
   "metadata": {},
   "outputs": [
    {
     "name": "stdout",
     "output_type": "stream",
     "text": [
      "bunkolamitioletanraranitoripeoluwaferanmi\n"
     ]
    }
   ],
   "source": [
    "print(na[5:])"
   ]
  },
  {
   "cell_type": "code",
   "execution_count": 36,
   "id": "d53a9c6c",
   "metadata": {},
   "outputs": [
    {
     "data": {
      "text/plain": [
       "4"
      ]
     },
     "execution_count": 36,
     "metadata": {},
     "output_type": "execute_result"
    }
   ],
   "source": [
    "na .count(\"o\", 5)"
   ]
  },
  {
   "cell_type": "code",
   "execution_count": 37,
   "id": "a3b898ef",
   "metadata": {},
   "outputs": [
    {
     "data": {
      "text/plain": [
       "False"
      ]
     },
     "execution_count": 37,
     "metadata": {},
     "output_type": "execute_result"
    }
   ],
   "source": [
    "#it checks what the specified value ends with \n",
    "na .endswith(\"o\")"
   ]
  },
  {
   "cell_type": "code",
   "execution_count": 38,
   "id": "1d7bbbbe",
   "metadata": {},
   "outputs": [
    {
     "data": {
      "text/plain": [
       "True"
      ]
     },
     "execution_count": 38,
     "metadata": {},
     "output_type": "execute_result"
    }
   ],
   "source": [
    "#it checks what the specified value starts with\n",
    "na .startswith(\"o\")"
   ]
  },
  {
   "cell_type": "code",
   "execution_count": 39,
   "id": "87417810",
   "metadata": {},
   "outputs": [
    {
     "data": {
      "text/plain": [
       "True"
      ]
     },
     "execution_count": 39,
     "metadata": {},
     "output_type": "execute_result"
    }
   ],
   "source": [
    "na .endswith(\"ola\", 5, 12)\n",
    "#from index 5 to 12, does 'ola' end the character range specified"
   ]
  },
  {
   "cell_type": "code",
   "execution_count": 40,
   "id": "b2cbce1a",
   "metadata": {},
   "outputs": [
    {
     "data": {
      "text/plain": [
       "True"
      ]
     },
     "execution_count": 40,
     "metadata": {},
     "output_type": "execute_result"
    }
   ],
   "source": [
    "#to use a tuple of suffixes as we check from index 5 to 12\n",
    "na .endswith((\"ola\", \"a\"), 5, 12)"
   ]
  },
  {
   "cell_type": "code",
   "execution_count": 41,
   "id": "2c79f37d",
   "metadata": {},
   "outputs": [
    {
     "data": {
      "text/plain": [
       "1"
      ]
     },
     "execution_count": 41,
     "metadata": {},
     "output_type": "execute_result"
    }
   ],
   "source": [
    "#returns the index in the string where the first occurence of the substring is found\n",
    "na .find('l')"
   ]
  },
  {
   "cell_type": "code",
   "execution_count": 42,
   "id": "9821f29e",
   "metadata": {},
   "outputs": [
    {
     "data": {
      "text/plain": [
       "-1"
      ]
     },
     "execution_count": 42,
     "metadata": {},
     "output_type": "execute_result"
    }
   ],
   "source": [
    "#when a character does not occur in a string, the .find function outputs -1\n",
    "na .find(\"A\")"
   ]
  },
  {
   "cell_type": "code",
   "execution_count": 43,
   "id": "e4d26c60",
   "metadata": {},
   "outputs": [
    {
     "ename": "ValueError",
     "evalue": "substring not found",
     "output_type": "error",
     "traceback": [
      "\u001b[1;31m---------------------------------------------------------------------------\u001b[0m",
      "\u001b[1;31mValueError\u001b[0m                                Traceback (most recent call last)",
      "Cell \u001b[1;32mIn[43], line 2\u001b[0m\n\u001b[0;32m      1\u001b[0m \u001b[38;5;66;03m#when a character does not occur in a string, the .index function flags an error\u001b[39;00m\n\u001b[1;32m----> 2\u001b[0m \u001b[43mna\u001b[49m\u001b[38;5;241;43m.\u001b[39;49m\u001b[43mindex\u001b[49m\u001b[43m(\u001b[49m\u001b[38;5;124;43m\"\u001b[39;49m\u001b[38;5;124;43mA\u001b[39;49m\u001b[38;5;124;43m\"\u001b[39;49m\u001b[43m)\u001b[49m\n",
      "\u001b[1;31mValueError\u001b[0m: substring not found"
     ]
    }
   ],
   "source": [
    "#when a character does not occur in a string, the .index function flags an error\n",
    "na.index(\"A\")"
   ]
  },
  {
   "cell_type": "code",
   "execution_count": 44,
   "id": "933ab020",
   "metadata": {},
   "outputs": [
    {
     "data": {
      "text/plain": [
       "0"
      ]
     },
     "execution_count": 44,
     "metadata": {},
     "output_type": "execute_result"
    }
   ],
   "source": [
    "#index and the find function are similar but the above differentiates them.\n",
    "na .index(\"o\")"
   ]
  },
  {
   "cell_type": "code",
   "execution_count": 45,
   "id": "371f54df",
   "metadata": {
    "scrolled": true
   },
   "outputs": [
    {
     "name": "stdout",
     "output_type": "stream",
     "text": [
      "Ade is a female\n"
     ]
    }
   ],
   "source": [
    "name = \"Ade\"\n",
    "gender = \"female\"\n",
    "print(name+\" \"+ \"is a\"+\" \"+gender)"
   ]
  },
  {
   "cell_type": "code",
   "execution_count": 46,
   "id": "27940e27",
   "metadata": {},
   "outputs": [],
   "source": [
    "# ,format() function format\n",
    "msg = \"{} is a {}\".format(name, gender)"
   ]
  },
  {
   "cell_type": "code",
   "execution_count": 47,
   "id": "7602dc22",
   "metadata": {
    "scrolled": true
   },
   "outputs": [
    {
     "name": "stdout",
     "output_type": "stream",
     "text": [
      "Ade is a female\n"
     ]
    }
   ],
   "source": [
    "print(msg)"
   ]
  },
  {
   "cell_type": "code",
   "execution_count": 48,
   "id": "59ff4825",
   "metadata": {},
   "outputs": [
    {
     "data": {
      "text/plain": [
       "True"
      ]
     },
     "execution_count": 48,
     "metadata": {},
     "output_type": "execute_result"
    }
   ],
   "source": [
    "#is na in lowercase or uppercase? This functions only outputs in boolean\n",
    "na.islower()"
   ]
  },
  {
   "cell_type": "code",
   "execution_count": 49,
   "id": "6c93fc99",
   "metadata": {},
   "outputs": [
    {
     "data": {
      "text/plain": [
       "False"
      ]
     },
     "execution_count": 49,
     "metadata": {},
     "output_type": "execute_result"
    }
   ],
   "source": [
    "na.isupper()"
   ]
  },
  {
   "cell_type": "code",
   "execution_count": 50,
   "id": "db9880fd",
   "metadata": {},
   "outputs": [
    {
     "data": {
      "text/plain": [
       "'OLUWABUNKOLAMITIOLETANRARANITORIPEOLUWAFERANMI'"
      ]
     },
     "execution_count": 50,
     "metadata": {},
     "output_type": "execute_result"
    }
   ],
   "source": [
    "na.upper()"
   ]
  },
  {
   "cell_type": "code",
   "execution_count": 51,
   "id": "7bcf98ea",
   "metadata": {},
   "outputs": [
    {
     "data": {
      "text/plain": [
       "'oluwabunkolamitioletanraranitoripeoluwaferanmi'"
      ]
     },
     "execution_count": 51,
     "metadata": {},
     "output_type": "execute_result"
    }
   ],
   "source": [
    "na.lower()"
   ]
  },
  {
   "cell_type": "code",
   "execution_count": 52,
   "id": "8309bb72",
   "metadata": {},
   "outputs": [
    {
     "data": {
      "text/plain": [
       "'Oluwabunkolamitioletanraranitoripeoluwaferanmi'"
      ]
     },
     "execution_count": 52,
     "metadata": {},
     "output_type": "execute_result"
    }
   ],
   "source": [
    "na.capitalize()"
   ]
  },
  {
   "cell_type": "code",
   "execution_count": 53,
   "id": "ab975a53",
   "metadata": {},
   "outputs": [
    {
     "data": {
      "text/plain": [
       "'OLUWABUNKOLAMITIOLETANRARANITORIPEOLUWAFERANMI'"
      ]
     },
     "execution_count": 53,
     "metadata": {},
     "output_type": "execute_result"
    }
   ],
   "source": [
    "#swaps case of each character with its opposite case\n",
    "na .swapcase()"
   ]
  },
  {
   "cell_type": "code",
   "execution_count": 54,
   "id": "99d826b7",
   "metadata": {},
   "outputs": [
    {
     "data": {
      "text/plain": [
       "'I Am On My Way To School Now'"
      ]
     },
     "execution_count": 54,
     "metadata": {},
     "output_type": "execute_result"
    }
   ],
   "source": [
    "#titlecase\n",
    "\"I am on my way to school now\" .title()"
   ]
  },
  {
   "cell_type": "markdown",
   "id": "ed702ff6",
   "metadata": {},
   "source": [
    "###### join() string function\n"
   ]
  },
  {
   "cell_type": "code",
   "execution_count": 56,
   "id": "6f76acdf",
   "metadata": {},
   "outputs": [
    {
     "data": {
      "text/plain": [
       "'D,o,m,i,n,i,o,n,T,o,y,i,n'"
      ]
     },
     "execution_count": 56,
     "metadata": {},
     "output_type": "execute_result"
    }
   ],
   "source": [
    "seperator= \",\"\n",
    "Users=\"DominionToyin\"\n",
    "seperator.join(Users)"
   ]
  },
  {
   "cell_type": "markdown",
   "id": "b3752e65",
   "metadata": {},
   "source": [
    "###### replace() string function"
   ]
  },
  {
   "cell_type": "code",
   "execution_count": 57,
   "id": "64330d5c",
   "metadata": {},
   "outputs": [
    {
     "data": {
      "text/plain": [
       "'Joshua suspected that Edmond’s eerie knack for prognostication stemmed from his astoundingly broad knowledge of the world around him. For as long as Joshua could remember, Edmond had been an insatiable bibliophile— reading everything in sight. The man’s passion for books, and his capacity for absorbing their contents, surpassed anything Joshua had ever witnessed'"
      ]
     },
     "execution_count": 57,
     "metadata": {},
     "output_type": "execute_result"
    }
   ],
   "source": [
    "\"Langdon suspected that Edmond’s eerie knack for prognostication stemmed from his astoundingly broad knowledge of the world around him. For as long as Langdon could remember, Edmond had been an insatiable bibliophile— reading everything in sight. The man’s passion for books, and his capacity for absorbing their contents, surpassed anything Langdon had ever witnessed\" .replace(\"Langdon\", \"Joshua\")"
   ]
  },
  {
   "cell_type": "code",
   "execution_count": 60,
   "id": "160f75b6",
   "metadata": {},
   "outputs": [
    {
     "data": {
      "text/plain": [
       "'toyin ate tomato'"
      ]
     },
     "execution_count": 60,
     "metadata": {},
     "output_type": "execute_result"
    }
   ],
   "source": [
    " \"boyin ate bomabo\".replace('b','t', 3)"
   ]
  },
  {
   "cell_type": "code",
   "execution_count": 67,
   "id": "67745d81",
   "metadata": {},
   "outputs": [
    {
     "data": {
      "text/plain": [
       "'females, males, boys, girls, bees, book'"
      ]
     },
     "execution_count": 67,
     "metadata": {},
     "output_type": "execute_result"
    }
   ],
   "source": [
    "#strip() string function\n",
    "\"females, males, boys, girls, bees, books\".strip('s')"
   ]
  },
  {
   "cell_type": "code",
   "execution_count": 66,
   "id": "ef661c30",
   "metadata": {},
   "outputs": [
    {
     "data": {
      "text/plain": [
       "'female, male, boy, girl, bee, book'"
      ]
     },
     "execution_count": 66,
     "metadata": {},
     "output_type": "execute_result"
    }
   ],
   "source": [
    "\"females, males, boys, girls, bees, books\".replace('s','')"
   ]
  },
  {
   "cell_type": "markdown",
   "id": "9c3e9c59",
   "metadata": {},
   "source": [
    "### DEALING STRINGS WITH SPECIAL CHARACTER IN PYTHON:  To print strings that have quotations in between the string quotation marks, using the backslash \" \\ \" character to avoid interferance and error "
   ]
  },
  {
   "cell_type": "code",
   "execution_count": 69,
   "id": "5326b2dc",
   "metadata": {},
   "outputs": [
    {
     "name": "stdout",
     "output_type": "stream",
     "text": [
      "I'm can't\n"
     ]
    }
   ],
   "source": [
    "msg1 =\"I'm\"\n",
    "msg2 = \"can't\"\n",
    "print(msg1+\" \"+msg2)"
   ]
  },
  {
   "cell_type": "markdown",
   "id": "0df8ae70",
   "metadata": {},
   "source": [
    "###### TO BE ON THE SAFER SIDE, USE THE SYNTAX BELOW INSTEAD"
   ]
  },
  {
   "cell_type": "code",
   "execution_count": 70,
   "id": "06fc34f4",
   "metadata": {},
   "outputs": [
    {
     "name": "stdout",
     "output_type": "stream",
     "text": [
      "I'm can't\n"
     ]
    }
   ],
   "source": [
    "msg1 =\"I\\'m\"\n",
    "msg2 = \"can\\'t\"\n",
    "print(msg1+\" \"+msg2)"
   ]
  },
  {
   "cell_type": "code",
   "execution_count": null,
   "id": "91ffc76a",
   "metadata": {},
   "outputs": [],
   "source": []
  },
  {
   "cell_type": "markdown",
   "id": "3d2fa37b",
   "metadata": {},
   "source": [
    "###### INPUT AND PRINT FUNCTION"
   ]
  },
  {
   "cell_type": "code",
   "execution_count": null,
   "id": "fc24fb11",
   "metadata": {},
   "outputs": [],
   "source": [
    "import getpass\n",
    "\n",
    "Title = \"A message from Dominion to her love Esther\"\n",
    "Passkey = \"ayaoba\"\n",
    "Password = None\n",
    "trials = 5\n",
    "\n",
    "while trials > 0:\n",
    "    Password = getpass.getpass(\"To view \" + Title + \", input your password: \")\n",
    "    \n",
    "    if Password == Passkey:\n",
    "        input(\"CLICK ON ENTER TO VIEW THE MESSAGE\")\n",
    "        print (\"I love you so much my love even if you don't have sense , lol. I always miss your gists, abnormal laughter and vibe when i\\'m not with you. My baby boo, you are unique and i love you the way you are. I\\'m not saying that you shouldn\\'t work on improving and developing yourself oh but do not change who you are to please anybody. Develop yourself for you and you alone.I love you baby\")\n",
    "        break\n",
    "    trials -=1\n",
    "    if trials > 0: \n",
    "        print(\"as big as your head is you don't know the password. Anyways, you have \", trials, \"trials left\")\n",
    "    elif trials == 2:\n",
    "        print(\"you have 2 trials left\")\n",
    "    else:\n",
    "        print(\"No more trials.\")\n",
    "        print(\"ACCESS DENIED\")\n",
    "    \n",
    "        "
   ]
  },
  {
   "cell_type": "code",
   "execution_count": null,
   "id": "ff9a3bd8-91ec-426f-816c-2abcd9fc2fbb",
   "metadata": {},
   "outputs": [],
   "source": []
  },
  {
   "cell_type": "code",
   "execution_count": null,
   "id": "767025aa",
   "metadata": {},
   "outputs": [],
   "source": []
  },
  {
   "cell_type": "code",
   "execution_count": null,
   "id": "08b029c1",
   "metadata": {},
   "outputs": [],
   "source": []
  }
 ],
 "metadata": {
  "kernelspec": {
   "display_name": "Python 3 (ipykernel)",
   "language": "python",
   "name": "python3"
  },
  "language_info": {
   "codemirror_mode": {
    "name": "ipython",
    "version": 3
   },
   "file_extension": ".py",
   "mimetype": "text/x-python",
   "name": "python",
   "nbconvert_exporter": "python",
   "pygments_lexer": "ipython3",
   "version": "3.10.9"
  }
 },
 "nbformat": 4,
 "nbformat_minor": 5
}
